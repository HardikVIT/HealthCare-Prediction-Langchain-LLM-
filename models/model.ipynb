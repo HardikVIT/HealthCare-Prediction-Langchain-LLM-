{
 "cells": [
  {
   "cell_type": "code",
   "execution_count": 3,
   "metadata": {},
   "outputs": [
    {
     "name": "stdout",
     "output_type": "stream",
     "text": [
      "['Abdominal cramps', 'Abdominal pain', 'Abdominal swelling', 'Abnormal heart rhythm', 'Acne', 'Anxiety', 'Appetite loss', 'Back pain', 'Belly pain', 'Blackheads', 'Bladder discomfort', 'Bleeding gums', 'Bloating', 'Blurred vision', 'Body aches', 'Burning urination', 'Butterfly rash', 'Chest pain', 'Chest tightness', 'Cold intolerance', 'Confusion', 'Constipation', 'Cough', 'Dark urine', 'Dehydration', 'Depression', 'Diarrhea', 'Difficulty breathing', 'Difficulty swallowing', 'Dizziness', 'Dry mouth', 'Dry skin', 'Ear pain', 'Excessive hunger', 'Excessive sweating', 'Fainting', 'Fast heart rate', 'Fatigue', 'Fever', 'Foul smell of urine', 'Frequent urination', 'Hair loss', 'Headache', 'High fever', 'Hoarseness', 'Increased thirst', 'Irritability', 'Itching', 'Itchy eyes', 'Jaundice', 'Joint pain', 'Joint stiffness', 'Knee pain', 'Leg pain', 'Loss of appetite', 'Loss of consciousness', 'Lower abdominal pain', 'Morning pain', 'Muscle pain', 'Muscle weakness', 'Nausea', 'Neck swelling', 'Night sweats', 'Numbness', 'Oily skin', 'One-sided weakness', 'Painful joints', 'Painful urination', 'Pale skin', 'Persistent cough', 'Pus discharge', 'Rapid heartbeat', 'Rash', 'Rashes', 'Red skin', 'Redness of eyes', 'Runny nose', 'Sensitivity to cold', 'Sensitivity to light', 'Severe abdominal pain', 'Severe headache', 'Shortness of breath', 'Skin rash', 'Slow movement', 'Slurred speech', 'Sneezing', 'Sore throat', 'Stiff muscles', 'Stiff neck', 'Stiffness', 'Stomach cramps', 'Sun sensitivity', 'Sweating', 'Swelling', 'Swelling in joints', 'Swelling in legs', 'Swollen lymph nodes', 'Tremors', 'Vision problems', 'Vomiting', 'Watery discharge', 'Weakness', 'Weight gain', 'Weight loss', 'Wheezing', 'Yellowing of eyes', 'Yellowing skin']\n",
      "\n",
      "=== Decision Tree ===\n",
      "Accuracy:  43.31210191082803 %\n",
      "Precision      : 49.331003391512944 %\n",
      "Recall         : 43.31210191082803 %\n",
      "F1 Score       : 43.505544497242546 %\n"
     ]
    },
    {
     "name": "stderr",
     "output_type": "stream",
     "text": [
      "C:\\Users\\sondh\\AppData\\Roaming\\Python\\Python312\\site-packages\\sklearn\\metrics\\_classification.py:1565: UndefinedMetricWarning: Precision is ill-defined and being set to 0.0 in labels with no predicted samples. Use `zero_division` parameter to control this behavior.\n",
      "  _warn_prf(average, modifier, f\"{metric.capitalize()} is\", len(result))\n"
     ]
    },
    {
     "name": "stdout",
     "output_type": "stream",
     "text": [
      "\n",
      "=== Random Forest ===\n",
      "Accuracy:  54.77707006369427  %\n",
      "Precision      : 55.96968318305899 %\n",
      "Recall         : 54.77707006369427 %\n",
      "F1 Score       : 51.97823661705265 %\n",
      "\n",
      "=== Naive Bayes ===\n",
      "Accuracy:  52.22929936305732  %\n",
      "Precision      : 56.58965072228467 %\n",
      "Recall         : 52.22929936305732 %\n",
      "F1 Score       : 50.16332570472698 %\n",
      "\n",
      "=== Mode ===\n",
      "Accuracy:  54.77707006369427  %\n",
      "Precision      : 57.96353328200461 %\n",
      "Recall         : 54.77707006369427 %\n",
      "F1 Score       : 52.82460612070018 %\n"
     ]
    },
    {
     "name": "stderr",
     "output_type": "stream",
     "text": [
      "C:\\Users\\sondh\\AppData\\Roaming\\Python\\Python312\\site-packages\\sklearn\\metrics\\_classification.py:1565: UndefinedMetricWarning: Precision is ill-defined and being set to 0.0 in labels with no predicted samples. Use `zero_division` parameter to control this behavior.\n",
      "  _warn_prf(average, modifier, f\"{metric.capitalize()} is\", len(result))\n",
      "C:\\Users\\sondh\\AppData\\Roaming\\Python\\Python312\\site-packages\\sklearn\\metrics\\_classification.py:1565: UndefinedMetricWarning: Precision is ill-defined and being set to 0.0 in labels with no predicted samples. Use `zero_division` parameter to control this behavior.\n",
      "  _warn_prf(average, modifier, f\"{metric.capitalize()} is\", len(result))\n",
      "C:\\Users\\sondh\\AppData\\Roaming\\Python\\Python312\\site-packages\\sklearn\\metrics\\_classification.py:1565: UndefinedMetricWarning: Precision is ill-defined and being set to 0.0 in labels with no predicted samples. Use `zero_division` parameter to control this behavior.\n",
      "  _warn_prf(average, modifier, f\"{metric.capitalize()} is\", len(result))\n"
     ]
    },
    {
     "data": {
      "text/plain": [
       "['all_symptoms_list.pkl']"
      ]
     },
     "execution_count": 3,
     "metadata": {},
     "output_type": "execute_result"
    }
   ],
   "source": [
    "import pandas as pd\n",
    "import numpy as np\n",
    "from scipy.stats import mode\n",
    "from sklearn.preprocessing import LabelEncoder\n",
    "from sklearn.model_selection import train_test_split\n",
    "from sklearn.tree import DecisionTreeClassifier\n",
    "from sklearn.ensemble import RandomForestClassifier\n",
    "from sklearn.naive_bayes import MultinomialNB\n",
    "from sklearn.metrics import precision_score, recall_score, f1_score, accuracy_score\n",
    "import joblib\n",
    "\n",
    "# 1. Load Dataset\n",
    "df = pd.read_csv(r'C:\\Users\\sondh\\Desktop\\healthCare_LLM\\HealthCare-Prediction-Langchain-LLM-\\models\\symptoms_disease_cleaned.csv')  \n",
    "df= df.head(700) \n",
    "# 2. Combine and encode symptoms (multi-hot)\n",
    "symptom_cols = ['Symptom 1', 'Symptom 2', 'Symptom 3']\n",
    "all_symptoms = sorted(set(symptom for symptom in df[symptom_cols].values.ravel() if isinstance(symptom, str)))\n",
    "print(all_symptoms)\n",
    "# Multi-hot encode each row\n",
    "def encode_row(row):\n",
    "    symptoms = [row[col] for col in symptom_cols]\n",
    "    return [1 if symptom in symptoms else 0 for symptom in all_symptoms]\n",
    "\n",
    "df['features'] = df.apply(encode_row, axis=1)\n",
    "\n",
    "# Expand list into multiple columns\n",
    "X = pd.DataFrame(df['features'].to_list(), columns=all_symptoms)\n",
    "\n",
    "# 3. Encode disease labels\n",
    "le = LabelEncoder()\n",
    "y = le.fit_transform(df['Disease']) \n",
    "X_train, X_test, y_train, y_test = train_test_split(X, y, test_size=0.3, random_state=0)\n",
    "# \n",
    "\n",
    "# === Decision Tree ===\n",
    "dt_model = DecisionTreeClassifier(random_state=0)\n",
    "dt_model.fit(X_train, y_train)\n",
    "dt_pred = dt_model.predict(X_test)\n",
    "print(\"\\n=== Decision Tree ===\")\n",
    "dt_ans=mode(dt_pred, axis=0)[0].flatten()[0] \n",
    "print(\"Accuracy: \", accuracy_score(dt_pred, y_test) * 100, \"%\")\n",
    "print(\"Precision      :\", precision_score(y_test, dt_pred, average='weighted') * 100, \"%\")\n",
    "print(\"Recall         :\", recall_score(y_test, dt_pred, average='weighted') * 100, \"%\")\n",
    "print(\"F1 Score       :\", f1_score(y_test, dt_pred, average='weighted') * 100, \"%\")\n",
    "\n",
    "\n",
    "# === Random Forest ===\n",
    "rf_model = RandomForestClassifier(n_estimators=100, random_state=0)\n",
    "rf_model.fit(X_train, y_train)\n",
    "rf_pred = rf_model.predict(X_test)\n",
    "print(\"\\n=== Random Forest ===\")\n",
    "rf_ans=mode(rf_pred, axis=0)[0].flatten()[0] \n",
    "print(\"Accuracy: \", accuracy_score(rf_pred, y_test) * 100, \" %\")\n",
    "print(\"Precision      :\", precision_score(y_test, rf_pred, average='weighted') * 100, \"%\")\n",
    "print(\"Recall         :\", recall_score(y_test, rf_pred, average='weighted') * 100, \"%\")\n",
    "print(\"F1 Score       :\", f1_score(y_test, rf_pred, average='weighted') * 100, \"%\")\n",
    "\n",
    "\n",
    "# === Naive Bayes ===\n",
    "nb_model = MultinomialNB()\n",
    "nb_model.fit(X_train, y_train)\n",
    "nb_pred = nb_model.predict(X_test)\n",
    "print(\"\\n=== Naive Bayes ===\")\n",
    "nb_ans=mode(nb_pred, axis=0)[0].flatten()[0] \n",
    "print(\"Accuracy: \", accuracy_score(nb_pred, y_test) * 100, \" %\")\n",
    "print(\"Precision      :\", precision_score(y_test, nb_pred, average='weighted') * 100, \"%\")\n",
    "print(\"Recall         :\", recall_score(y_test, nb_pred, average='weighted') * 100, \"%\")\n",
    "print(\"F1 Score       :\", f1_score(y_test, nb_pred, average='weighted') * 100, \"%\")\n",
    "\n",
    "# === Majority ===\n",
    "final_predictions = np.array([rf_pred, nb_pred, dt_pred])\n",
    "final_majority_vote = mode(final_predictions, axis=0)[0].flatten() \n",
    "print(\"\\n=== Mode ===\")\n",
    "print(\"Accuracy: \", accuracy_score(final_majority_vote, y_test) * 100, \" %\")\n",
    "print(\"Precision      :\", precision_score(y_test, final_majority_vote, average='weighted') * 100, \"%\")\n",
    "print(\"Recall         :\", recall_score(y_test, final_majority_vote, average='weighted') * 100, \"%\")\n",
    "print(\"F1 Score       :\", f1_score(y_test, final_majority_vote, average='weighted') * 100, \"%\")\n",
    "\n",
    "joblib.dump(rf_model, 'random_forest_model.pkl')\n",
    "joblib.dump(nb_model, 'naive_bayes_model.pkl')\n",
    "joblib.dump(dt_model, 'decision_tree_model.pkl')\n",
    "joblib.dump(le, 'label_encoder.pkl')\n",
    "joblib.dump(list(all_symptoms), 'all_symptoms_list.pkl')\n",
    "\n",
    "\n"
   ]
  },
  {
   "cell_type": "code",
   "execution_count": 5,
   "metadata": {},
   "outputs": [
    {
     "name": "stdout",
     "output_type": "stream",
     "text": [
      "[0, 0, 0, 0, 0, 0, 0, 0, 0, 0, 1, 0, 0, 0, 0, 0, 0, 0, 0, 0, 0, 0, 0, 0, 0, 0, 0, 0, 0, 0, 0, 0, 0, 0, 0, 0, 0, 0, 0, 1, 0, 0, 0, 0, 0, 0, 0, 0, 0, 0, 0, 0, 0, 0, 0, 0, 0, 0, 0, 0, 1, 0, 0, 0, 0, 0, 0, 0, 0, 0, 0, 0, 0, 0, 0, 0, 0, 0, 0, 0, 0, 0, 0, 0, 0, 0, 0, 0, 0, 0, 0, 0, 0, 0, 0, 0, 0, 0, 0, 0, 0, 0, 0, 0, 0, 0, 0]\n",
      "Predicted Disease: Urinary Tract Infection (UTI)\n"
     ]
    },
    {
     "name": "stderr",
     "output_type": "stream",
     "text": [
      "C:\\Users\\sondh\\AppData\\Roaming\\Python\\Python312\\site-packages\\sklearn\\utils\\validation.py:2739: UserWarning: X does not have valid feature names, but RandomForestClassifier was fitted with feature names\n",
      "  warnings.warn(\n",
      "C:\\Users\\sondh\\AppData\\Roaming\\Python\\Python312\\site-packages\\sklearn\\utils\\validation.py:2739: UserWarning: X does not have valid feature names, but MultinomialNB was fitted with feature names\n",
      "  warnings.warn(\n",
      "C:\\Users\\sondh\\AppData\\Roaming\\Python\\Python312\\site-packages\\sklearn\\utils\\validation.py:2739: UserWarning: X does not have valid feature names, but DecisionTreeClassifier was fitted with feature names\n",
      "  warnings.warn(\n"
     ]
    }
   ],
   "source": [
    "import numpy as np\n",
    "from scipy.stats import mode\n",
    "\n",
    "# Load the saved models and LabelEncoder\n",
    "random_forest_model = joblib.load('random_forest_model.pkl')\n",
    "naive_bayes_model = joblib.load('naive_bayes_model.pkl')\n",
    "decision_tree_model = joblib.load('decision_tree_model.pkl')\n",
    "le = joblib.load('label_encoder.pkl')\n",
    "all_symptoms = joblib.load('all_symptoms_list.pkl')\n",
    "# Function to predict disease based on user-selected symptoms\n",
    "def predict_disease(chosen_symptoms, all_symptoms, X_columns):\n",
    "    # Prepare the input vector for prediction\n",
    "    input_vector = [1 if symptom in chosen_symptoms else 0 for symptom in X_columns]\n",
    "    print(input_vector)\n",
    "    # Predict using the loaded models\n",
    "    rf_pred_new = random_forest_model.predict([input_vector])\n",
    "    nb_pred_new = naive_bayes_model.predict([input_vector])\n",
    "    dt_pred_new = decision_tree_model.predict([input_vector])\n",
    "\n",
    "    # Combine predictions using majority voting\n",
    "    new_final_predictions = np.array([rf_pred_new, nb_pred_new, dt_pred_new])\n",
    "    new_final_majority_vote = mode(new_final_predictions, axis=0)[0].flatten()\n",
    "\n",
    "    # Decode the predicted label back to the disease name\n",
    "    final_disease = le.inverse_transform(new_final_majority_vote)\n",
    "    return final_disease[0]\n",
    "\n",
    "# user choose 3 symptoms\n",
    "chosen_symptoms = ['Bladder discomfort','Foul smell of urine','Nausea']\n",
    "\n",
    "# Prediction\n",
    "predicted_disease = predict_disease(chosen_symptoms, all_symptoms, X.columns)\n",
    "print(f\"Predicted Disease: {predicted_disease}\")"
   ]
  }
 ],
 "metadata": {
  "kernelspec": {
   "display_name": "Python 3",
   "language": "python",
   "name": "python3"
  },
  "language_info": {
   "codemirror_mode": {
    "name": "ipython",
    "version": 3
   },
   "file_extension": ".py",
   "mimetype": "text/x-python",
   "name": "python",
   "nbconvert_exporter": "python",
   "pygments_lexer": "ipython3",
   "version": "3.12.5"
  }
 },
 "nbformat": 4,
 "nbformat_minor": 2
}
